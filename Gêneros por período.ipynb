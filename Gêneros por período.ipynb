{
 "cells": [
  {
   "cell_type": "code",
   "execution_count": 1,
   "metadata": {},
   "outputs": [],
   "source": [
    "import os, re, csv, shutil\n",
    "from lxml import etree\n",
    "import pandas as pd\n",
    "import numpy as np\n",
    "import matplotlib.pyplot as plt\n",
    "import matplotlib.gridspec as gridspec"
   ]
  },
  {
   "cell_type": "code",
   "execution_count": 2,
   "metadata": {},
   "outputs": [],
   "source": [
    "def get_meta(data, tree):\n",
    "    parsed = tree\n",
    "    \n",
    "    n_list = parsed.xpath('//meta/n')\n",
    "    n_text = [i.text for i in n_list]\n",
    "    index_meta = n_text.index(data)\n",
    "    \n",
    "    v_list = parsed.xpath('//meta/v')\n",
    "    return v_list[index_meta]"
   ]
  },
  {
   "cell_type": "code",
   "execution_count": 3,
   "metadata": {},
   "outputs": [],
   "source": [
    "cor_dict = {}\n",
    "with open('periodos_tycho.csv', mode='r') as file:\n",
    "    reader = csv.reader(file)\n",
    "    cor_dict = {row[1][:-4]+'.xml':row[0] for row in reader}"
   ]
  },
  {
   "cell_type": "code",
   "execution_count": 7,
   "metadata": {},
   "outputs": [],
   "source": [
    "dir_path = 'xml/xml_sorts/v1'\n",
    "if not os.path.exists(dir_path):\n",
    "    os.makedirs(dir_path)\n",
    "\n",
    "if not os.path.exists(dir_path + '/p1'):\n",
    "    os.makedirs(dir_path + '/p1')\n",
    "if not os.path.exists(dir_path + '/p2'):\n",
    "    os.makedirs(dir_path + '/p2')\n",
    "if not os.path.exists(dir_path + '/p3'):\n",
    "    os.makedirs(dir_path + '/p3')    "
   ]
  },
  {
   "cell_type": "code",
   "execution_count": 8,
   "metadata": {
    "scrolled": true
   },
   "outputs": [],
   "source": [
    "for root, dirs, files in os.walk(\"./xml/original\", topdown=False):\n",
    "    for file in files:\n",
    "        if cor_dict[file] == 'arcmed':\n",
    "            source = os.path.join(root,file)\n",
    "            target = dir_path + '/p1'\n",
    "            shutil.copy(source,target)\n",
    "        if cor_dict[file] == 'mod':\n",
    "            source = os.path.join(root,file)\n",
    "            target = dir_path + '/p2'\n",
    "            shutil.copy(source,target)\n",
    "        if cor_dict[file] == 'cont1' or cor_dict[file] == 'cont2':\n",
    "            source = os.path.join(root,file)\n",
    "            target = dir_path + '/p3'\n",
    "            shutil.copy(source,target)"
   ]
  },
  {
   "cell_type": "code",
   "execution_count": 8,
   "metadata": {},
   "outputs": [
    {
     "name": "stdout",
     "output_type": "stream",
     "text": [
      "{'Narrative; Chronicle': 3, 'Dissertation': 1, 'Theatre': 4, 'Chronica do muito alto e muito esclarecido principe D. Affonso Henriques primeiro Rey de Portugal': 1, 'Narrative': 2, 'Letters': 1, 'Grammar': 1}\n"
     ]
    }
   ],
   "source": [
    "gen_count_1 = {}\n",
    "for root, dirs, files in os.walk('./xml/xml_sorts/v1/p1', topdown=False):\n",
    "    for file in files:\n",
    "        with open(os.path.join(root,file) , mode='r') as xml_file:\n",
    "            parsed = etree.parse(xml_file)\n",
    "            node = get_meta('Genre', parsed)\n",
    "            gen_count_1[node.text] = gen_count_1.get(node.text, 0) + 1\n",
    "print(gen_count_1)"
   ]
  },
  {
   "cell_type": "code",
   "execution_count": 11,
   "metadata": {},
   "outputs": [
    {
     "data": {
      "image/png": "[encoded data removed]",
      "text/plain": [
       "<Figure size 432x288 with 1 Axes>"
      ]
     },
     "metadata": {
      "needs_background": "light"
     },
     "output_type": "display_data"
    },
    {
     "data": {
      "text/plain": [
       "<Figure size 432x288 with 0 Axes>"
      ]
     },
     "metadata": {},
     "output_type": "display_data"
    }
   ],
   "source": [
    "gen_count_1 = {'Narrativo': 6, 'Dissertação': 1, 'Teatro': 4, 'Cartas': 1, 'Gramática': 1}\n",
    "plt.bar(range(len(gen_count_1)), list(gen_count_1.values()), align='center')\n",
    "plt.xticks(range(len(gen_count_1)), list(gen_count_1.keys()))\n",
    "plt.xticks(rotation=45)\n",
    "plt.show()\n",
    "\n",
    "plt.savefig('obra_p_genero_1.png')"
   ]
  },
  {
   "cell_type": "code",
   "execution_count": 48,
   "metadata": {},
   "outputs": [
    {
     "name": "stdout",
     "output_type": "stream",
     "text": [
      "{'Theatre': 3, None: 1, 'Transcript of original manuscript': 1, 'Letters': 6, 'Dissertation': 4, 'News': 3, 'Narrative': 9, 'Grammar': 1}\n"
     ]
    }
   ],
   "source": [
    "gen_count_2 = {}\n",
    "for root, dirs, files in os.walk('./xml/xml_sorts/v1/p2', topdown=False):\n",
    "    for file in files:\n",
    "        with open(os.path.join(root,file) , mode='r') as xml_file:\n",
    "            parsed = etree.parse(xml_file)\n",
    "            node = get_meta('Genre', parsed)\n",
    "            gen_count_2[node.text] = gen_count_2.get(node.text, 0) + 1\n",
    "print(gen_count_2)\n",
    "\n"
   ]
  },
  {
   "cell_type": "code",
   "execution_count": 9,
   "metadata": {},
   "outputs": [
    {
     "data": {
      "image/png": "[encoded data removed]",
      "text/plain": [
       "<Figure size 432x288 with 1 Axes>"
      ]
     },
     "metadata": {
      "needs_background": "light"
     },
     "output_type": "display_data"
    },
    {
     "data": {
      "text/plain": [
       "<Figure size 432x288 with 0 Axes>"
      ]
     },
     "metadata": {},
     "output_type": "display_data"
    }
   ],
   "source": [
    "gen_count_2 = {'Narrativo': 9, 'Dissertação': 4, 'Teatro': 3, 'Cartas': 6,\n",
    "               'Notícias': 3, 'Gramática':1}\n",
    "\n",
    "\n",
    "plt.bar(range(len(gen_count_2)), list(gen_count_2.values()), align='center')\n",
    "plt.xticks(range(len(gen_count_2)), list(gen_count_2.keys()))\n",
    "plt.yticks(np.arange(0, 10, step=1))\n",
    "plt.xticks(rotation=45)\n",
    "plt.show()\n",
    "plt.savefig('obra_p_genero_2.png')"
   ]
  },
  {
   "cell_type": "code",
   "execution_count": 49,
   "metadata": {},
   "outputs": [
    {
     "name": "stdout",
     "output_type": "stream",
     "text": [
      "{'Theatre': 8, 'Grammar': 1, 'Narrative': 6, 'Dissertation': 2, 'News': 3, 'Newspaper': 3, 'Letters': 10, 'ata': 2}\n"
     ]
    }
   ],
   "source": [
    "gen_count_3 = {}\n",
    "for root, dirs, files in os.walk('./xml/xml_sorts/v1/p3', topdown=False):\n",
    "    for file in files:\n",
    "        with open(os.path.join(root,file) , mode='r') as xml_file:\n",
    "            parsed = etree.parse(xml_file)\n",
    "            node = get_meta('Genre', parsed)\n",
    "            gen_count_3[node.text] = gen_count_3.get(node.text, 0) + 1\n",
    "print(gen_count_3)"
   ]
  },
  {
   "cell_type": "code",
   "execution_count": 10,
   "metadata": {},
   "outputs": [
    {
     "data": {
      "image/png": "[encoded data removed]",
      "text/plain": [
       "<Figure size 432x288 with 1 Axes>"
      ]
     },
     "metadata": {
      "needs_background": "light"
     },
     "output_type": "display_data"
    },
    {
     "data": {
      "text/plain": [
       "<Figure size 432x288 with 0 Axes>"
      ]
     },
     "metadata": {},
     "output_type": "display_data"
    }
   ],
   "source": [
    "gen_count_3 = {'Narrativo': 6, 'Dissertação': 2, 'Teatro': 8, 'Cartas': 10,\n",
    "               'Notícias': 6, 'Gramática': 1, 'Atas': 2}\n",
    "\n",
    "\n",
    "plt.bar(range(len(gen_count_3)), list(gen_count_3.values()), align='center')\n",
    "plt.xticks(range(len(gen_count_3)), list(gen_count_3.keys()))\n",
    "plt.yticks(np.arange(0, 11, step=1))\n",
    "plt.xticks(rotation=45)\n",
    "plt.show()\n",
    "plt.savefig('obra_p_genero_3.png')"
   ]
  },
  {
   "cell_type": "code",
   "execution_count": null,
   "metadata": {},
   "outputs": [],
   "source": [
    "fig = plt.figure()\n",
    "\n",
    "ax1 = plt.subplot(211)\n",
    "ax1.plot(cycles,np.asarray(df_int),'wo',label='')\n",
    "ax1.plot(cycles,np.asarray(df_proj),'k+',label='')\n",
    "ax1.legend(loc=2)\n",
    "#ax1.subplots_adjust(left=0.15)\n",
    "ax1.set_ylim(0.001,0.004)\n",
    "\n",
    "ax2 = plt.subplot(223)\n",
    "i2=ax2.imshow(c,cmap=plt.cm.hot, vmin=-5, vmax=5);#plt.colorbar();plt.clim(-5,5)\n",
    "cb2=plt.colorbar(i2,ax=ax2,ticks=[-5,0,5],fraction=0.046, pad=0.04,format='%.2f')\n",
    "cb2.ax.tick_params(labelsize=12)\n",
    "\n",
    "\n",
    "\n",
    "ax3 = plt.subplot(224)\n",
    "i3=ax3.imshow(residue_proj,cmap=plt.cm.hot, vmin=-5, vmax=5);#plt.colorbar();plt.clim(-5,5);\n",
    "cb3=plt.colorbar(i3,ax=ax3,ticks=[-5,0,5],fraction=0.046, pad=0.04,format='%.2f')\n",
    "cb3.ax.tick_params(labelsize=12)\n",
    "\n",
    "plt.savefig('test.png', dpi=500,  bbox_inches='tight', pad_inches=0.1)\n",
    "#plt.show()\n"
   ]
  },
  {
   "cell_type": "code",
   "execution_count": 18,
   "metadata": {},
   "outputs": [
    {
     "ename": "AttributeError",
     "evalue": "'AxesSubplot' object has no attribute 'xticks'",
     "output_type": "error",
     "traceback": [
      "\u001b[0;31m---------------------------------------------------------------------------\u001b[0m",
      "\u001b[0;31mAttributeError\u001b[0m                            Traceback (most recent call last)",
      "\u001b[0;32m<ipython-input-18-3e1216aeb79f>\u001b[0m in \u001b[0;36m<module>\u001b[0;34m\u001b[0m\n\u001b[1;32m      5\u001b[0m \u001b[0mgen_count_1\u001b[0m \u001b[0;34m=\u001b[0m \u001b[0;34m{\u001b[0m\u001b[0;34m'Narrativo'\u001b[0m\u001b[0;34m:\u001b[0m \u001b[0;36m6\u001b[0m\u001b[0;34m,\u001b[0m \u001b[0;34m'Dissertação'\u001b[0m\u001b[0;34m:\u001b[0m \u001b[0;36m1\u001b[0m\u001b[0;34m,\u001b[0m \u001b[0;34m'Teatro'\u001b[0m\u001b[0;34m:\u001b[0m \u001b[0;36m4\u001b[0m\u001b[0;34m,\u001b[0m \u001b[0;34m'Cartas'\u001b[0m\u001b[0;34m:\u001b[0m \u001b[0;36m1\u001b[0m\u001b[0;34m,\u001b[0m \u001b[0;34m'Gramática'\u001b[0m\u001b[0;34m:\u001b[0m \u001b[0;36m1\u001b[0m\u001b[0;34m}\u001b[0m\u001b[0;34m\u001b[0m\u001b[0;34m\u001b[0m\u001b[0m\n\u001b[1;32m      6\u001b[0m \u001b[0max1\u001b[0m\u001b[0;34m.\u001b[0m\u001b[0mbar\u001b[0m\u001b[0;34m(\u001b[0m\u001b[0mrange\u001b[0m\u001b[0;34m(\u001b[0m\u001b[0mlen\u001b[0m\u001b[0;34m(\u001b[0m\u001b[0mgen_count_1\u001b[0m\u001b[0;34m)\u001b[0m\u001b[0;34m)\u001b[0m\u001b[0;34m,\u001b[0m \u001b[0mlist\u001b[0m\u001b[0;34m(\u001b[0m\u001b[0mgen_count_1\u001b[0m\u001b[0;34m.\u001b[0m\u001b[0mvalues\u001b[0m\u001b[0;34m(\u001b[0m\u001b[0;34m)\u001b[0m\u001b[0;34m)\u001b[0m\u001b[0;34m,\u001b[0m \u001b[0malign\u001b[0m\u001b[0;34m=\u001b[0m\u001b[0;34m'center'\u001b[0m\u001b[0;34m)\u001b[0m\u001b[0;34m\u001b[0m\u001b[0;34m\u001b[0m\u001b[0m\n\u001b[0;32m----> 7\u001b[0;31m \u001b[0max1\u001b[0m\u001b[0;34m.\u001b[0m\u001b[0mxticks\u001b[0m\u001b[0;34m(\u001b[0m\u001b[0mrange\u001b[0m\u001b[0;34m(\u001b[0m\u001b[0mlen\u001b[0m\u001b[0;34m(\u001b[0m\u001b[0mgen_count_1\u001b[0m\u001b[0;34m)\u001b[0m\u001b[0;34m)\u001b[0m\u001b[0;34m,\u001b[0m \u001b[0mlist\u001b[0m\u001b[0;34m(\u001b[0m\u001b[0mgen_count_1\u001b[0m\u001b[0;34m.\u001b[0m\u001b[0mkeys\u001b[0m\u001b[0;34m(\u001b[0m\u001b[0;34m)\u001b[0m\u001b[0;34m)\u001b[0m\u001b[0;34m)\u001b[0m\u001b[0;34m\u001b[0m\u001b[0;34m\u001b[0m\u001b[0m\n\u001b[0m\u001b[1;32m      8\u001b[0m \u001b[0max1\u001b[0m\u001b[0;34m.\u001b[0m\u001b[0mxticks\u001b[0m\u001b[0;34m(\u001b[0m\u001b[0mrotation\u001b[0m\u001b[0;34m=\u001b[0m\u001b[0;36m45\u001b[0m\u001b[0;34m)\u001b[0m\u001b[0;34m\u001b[0m\u001b[0;34m\u001b[0m\u001b[0m\n\u001b[1;32m      9\u001b[0m \u001b[0max1\u001b[0m\u001b[0;34m.\u001b[0m\u001b[0mshow\u001b[0m\u001b[0;34m(\u001b[0m\u001b[0;34m)\u001b[0m\u001b[0;34m\u001b[0m\u001b[0;34m\u001b[0m\u001b[0m\n",
      "\u001b[0;31mAttributeError\u001b[0m: 'AxesSubplot' object has no attribute 'xticks'"
     ]
    },
    {
     "data": {
      "image/png": "[encoded data removed]",
      "text/plain": [
       "<Figure size 432x288 with 1 Axes>"
      ]
     },
     "metadata": {
      "needs_background": "light"
     },
     "output_type": "display_data"
    }
   ],
   "source": [
    "gs = gridspec.GridSpec(1, 3)\n",
    "\n",
    "fig = plt.figure()\n",
    "ax1 = fig.add_subplot(gs[0, 0]) # row 0, col 0\n",
    "gen_count_1 = {'Narrativo': 6, 'Dissertação': 1, 'Teatro': 4, 'Cartas': 1, 'Gramática': 1}\n",
    "ax1.bar(range(len(gen_count_1)), list(gen_count_1.values()), align='center')\n",
    "ax1.xticks(range(len(gen_count_1)), list(gen_count_1.keys()))\n",
    "ax1.xticks(rotation=45)\n",
    "ax1.show()\n",
    "ax1.plot([0,1])\n",
    "\n",
    "ax2 = fig.add_subplot(gs[0, 1]) # row 0, col 1\n",
    "ax2.bar(range(len(gen_count_2)), list(gen_count_2.values()), align='center')\n",
    "ax2.xticks(range(len(gen_count_2)), list(gen_count_2.keys()))\n",
    "ax2.yticks(np.arange(0, 10, step=1))\n",
    "ax2.xticks(rotation=45)\n",
    "ax2.show()\n",
    "ax2.plot([0,1])\n",
    "\n",
    "ax3 = fig.add_subplot(gs[0, 2]) \n",
    "ax3.bar(range(len(gen_count_3)), list(gen_count_3.values()), align='center')\n",
    "ax3.xticks(range(len(gen_count_3)), list(gen_count_3.keys()))\n",
    "ax3.yticks(np.arange(0, 11, step=1))\n",
    "ax3.xticks(rotation=45)\n",
    "\n",
    "ax3.plot([0,1])"
   ]
  },
  {
   "cell_type": "code",
   "execution_count": null,
   "metadata": {},
   "outputs": [],
   "source": [
    "fig, axes = plt.subplots(nrows=3, ncols=4)\n",
    "\n",
    "# Set the ticks and ticklabels for all axes\n",
    "plt.setp(axes, xticks=[0.1, 0.5, 0.9], xticklabels=['a', 'b', 'c'],\n",
    "        yticks=[1, 2, 3])"
   ]
  },
  {
   "cell_type": "code",
   "execution_count": 19,
   "metadata": {},
   "outputs": [
    {
     "ename": "TypeError",
     "evalue": "'AxesSubplot' object is not subscriptable",
     "output_type": "error",
     "traceback": [
      "\u001b[0;31m---------------------------------------------------------------------------\u001b[0m",
      "\u001b[0;31mTypeError\u001b[0m                                 Traceback (most recent call last)",
      "\u001b[0;32m<ipython-input-19-87754de152f9>\u001b[0m in \u001b[0;36m<module>\u001b[0;34m\u001b[0m\n\u001b[1;32m      1\u001b[0m \u001b[0mfig\u001b[0m\u001b[0;34m,\u001b[0m \u001b[0maxes\u001b[0m \u001b[0;34m=\u001b[0m \u001b[0mplt\u001b[0m\u001b[0;34m.\u001b[0m\u001b[0msubplots\u001b[0m\u001b[0;34m(\u001b[0m\u001b[0mnrows\u001b[0m\u001b[0;34m=\u001b[0m\u001b[0;36m1\u001b[0m\u001b[0;34m,\u001b[0m \u001b[0mncols\u001b[0m\u001b[0;34m=\u001b[0m\u001b[0;36m1\u001b[0m\u001b[0;34m)\u001b[0m\u001b[0;34m\u001b[0m\u001b[0;34m\u001b[0m\u001b[0m\n\u001b[1;32m      2\u001b[0m \u001b[0;34m\u001b[0m\u001b[0m\n\u001b[0;32m----> 3\u001b[0;31m \u001b[0mplt\u001b[0m\u001b[0;34m.\u001b[0m\u001b[0msca\u001b[0m\u001b[0;34m(\u001b[0m\u001b[0maxes\u001b[0m\u001b[0;34m[\u001b[0m\u001b[0;36m0\u001b[0m\u001b[0;34m,\u001b[0m \u001b[0;36m0\u001b[0m\u001b[0;34m]\u001b[0m\u001b[0;34m)\u001b[0m\u001b[0;34m\u001b[0m\u001b[0;34m\u001b[0m\u001b[0m\n\u001b[0m\u001b[1;32m      4\u001b[0m \u001b[0;34m\u001b[0m\u001b[0m\n\u001b[1;32m      5\u001b[0m \u001b[0mplt\u001b[0m\u001b[0;34m.\u001b[0m\u001b[0mbar\u001b[0m\u001b[0;34m(\u001b[0m\u001b[0mrange\u001b[0m\u001b[0;34m(\u001b[0m\u001b[0mlen\u001b[0m\u001b[0;34m(\u001b[0m\u001b[0mgen_count_1\u001b[0m\u001b[0;34m)\u001b[0m\u001b[0;34m)\u001b[0m\u001b[0;34m,\u001b[0m \u001b[0mlist\u001b[0m\u001b[0;34m(\u001b[0m\u001b[0mgen_count_1\u001b[0m\u001b[0;34m.\u001b[0m\u001b[0mvalues\u001b[0m\u001b[0;34m(\u001b[0m\u001b[0;34m)\u001b[0m\u001b[0;34m)\u001b[0m\u001b[0;34m,\u001b[0m \u001b[0malign\u001b[0m\u001b[0;34m=\u001b[0m\u001b[0;34m'center'\u001b[0m\u001b[0;34m)\u001b[0m\u001b[0;34m\u001b[0m\u001b[0;34m\u001b[0m\u001b[0m\n",
      "\u001b[0;31mTypeError\u001b[0m: 'AxesSubplot' object is not subscriptable"
     ]
    },
    {
     "data": {
      "image/png": "[encoded data removed]",
      "text/plain": [
       "<Figure size 432x288 with 1 Axes>"
      ]
     },
     "metadata": {
      "needs_background": "light"
     },
     "output_type": "display_data"
    }
   ],
   "source": [
    "fig, axes = plt.subplots(nrows=1, ncols=1)\n",
    "\n",
    "plt.sca(axes[0, 0])\n",
    "\n",
    "plt.bar(range(len(gen_count_1)), list(gen_count_1.values()), align='center')\n",
    "plt.xticks(range(len(gen_count_1)), list(gen_count_1.keys()))\n",
    "plt.xticks(rotation=45)\n",
    "ax1.plot([0,0])"
   ]
  },
  {
   "cell_type": "code",
   "execution_count": null,
   "metadata": {},
   "outputs": [],
   "source": []
  }
 ],
 "metadata": {
  "kernelspec": {
   "display_name": "Python 3",
   "language": "python",
   "name": "python3"
  },
  "language_info": {
   "codemirror_mode": {
    "name": "ipython",
    "version": 3
   },
   "file_extension": ".py",
   "mimetype": "text/x-python",
   "name": "python",
   "nbconvert_exporter": "python",
   "pygments_lexer": "ipython3",
   "version": "3.8.11"
  }
 },
 "nbformat": 4,
 "nbformat_minor": 4
}
