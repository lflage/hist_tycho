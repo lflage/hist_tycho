{
 "cells": [
  {
   "cell_type": "markdown",
   "metadata": {},
   "source": [
    "# Análise exploratória Tycho Brahe"
   ]
  },
  {
   "cell_type": "code",
   "execution_count": 104,
   "metadata": {},
   "outputs": [],
   "source": [
    "import re,os,csv\n",
    "import spacy\n",
    "import numpy as np\n",
    "\n",
    "nlp = spacy.load('pt_core_news_sm')"
   ]
  },
  {
   "cell_type": "markdown",
   "metadata": {},
   "source": [
    "## Para rodar os restuldos importar somente essas bibliotecas"
   ]
  },
  {
   "cell_type": "code",
   "execution_count": 2,
   "metadata": {},
   "outputs": [],
   "source": [
    "import nltk, csv\n",
    "import matplotlib.pyplot as plt\n",
    "from unicodedata import normalize\n",
    "from nltk.corpus import stopwords\n",
    "import numpy as np"
   ]
  },
  {
   "cell_type": "code",
   "execution_count": 7,
   "metadata": {},
   "outputs": [],
   "source": [
    "\n",
    "def remover_acentos(text):\n",
    "    '''Remove os acentos da string \"text\". Usada somente na função pre_process\n",
    "    '''\n",
    "    return normalize('NFKD', text).encode('ASCII', 'ignore').decode('ASCII')\n",
    "\n",
    "\n",
    "def pre_process(text):\n",
    "    '''Realiza um pré processamento da string de entrada \"text\".\n",
    "       Retira espaços em branco extras e retira caracteres não alfanuméricos\n",
    "    '''\n",
    "    text = re.sub('\\s{2,}',' ',text).strip().lower()\n",
    "    doc = nlp(text)\n",
    "    # Retira numeros\n",
    "    text = ' '.join([token.text for token in doc if token.is_alpha == True\n",
    "                     and token.pos_ != 'PUNCT' and token.is_stop == False])\n",
    "    return remover_acentos(text)\n"
   ]
  },
  {
   "cell_type": "markdown",
   "metadata": {},
   "source": [
    "# Leitura do dicionário de frequências"
   ]
  },
  {
   "cell_type": "markdown",
   "metadata": {},
   "source": [
    "Rodar célula abaixo para gerar dicionário de frequências a partir do corpus"
   ]
  },
  {
   "cell_type": "code",
   "execution_count": 70,
   "metadata": {},
   "outputs": [],
   "source": [
    "if 0 == 1:\n",
    "    path = './txt'\n",
    "    count = {}\n",
    "    for dirpath, dirnames, filenames in os.walk(path):\n",
    "        for filename in filenames:\n",
    "            with open(os.path.normpath(os.path.join(dirpath,filename)), 'r') as file:\n",
    "                for text in file.read():\n",
    "                    pro_text = pre_process(text)\n",
    "                    for i in pro_text.split():\n",
    "                        count[i] = count.get(i, 0) + 1\n",
    "    "
   ]
  },
  {
   "cell_type": "code",
   "execution_count": null,
   "metadata": {},
   "outputs": [],
   "source": [
    "# save count dict to csv file\n",
    "if 0 == 1:\n",
    "    w = csv.writer(open(\"count_dict.csv\", \"w\"))\n",
    "    for key, val in count.items():\n",
    "        w.writerow([key, val])"
   ]
  },
  {
   "cell_type": "markdown",
   "metadata": {},
   "source": [
    "# Cria dict de frequências a partir do arquivo csv"
   ]
  },
  {
   "cell_type": "code",
   "execution_count": 3,
   "metadata": {},
   "outputs": [],
   "source": [
    "import csv"
   ]
  },
  {
   "cell_type": "code",
   "execution_count": 4,
   "metadata": {},
   "outputs": [],
   "source": [
    "if 0 == 0:\n",
    "    with open('count_dict.csv','r') as inp:\n",
    "        reader = csv.reader(inp)\n",
    "        count = {rows[0]:int(rows[1]) for rows in reader}"
   ]
  },
  {
   "cell_type": "markdown",
   "metadata": {},
   "source": [
    "Remove chaves que contenham stopwords e tokens com menos que 2 caracteres."
   ]
  },
  {
   "cell_type": "code",
   "execution_count": 10,
   "metadata": {},
   "outputs": [
    {
     "name": "stderr",
     "output_type": "stream",
     "text": [
      "[nltk_data] Downloading package stopwords to\n",
      "[nltk_data]     /home/tolucas/nltk_data...\n",
      "[nltk_data]   Package stopwords is already up-to-date!\n"
     ]
    },
    {
     "data": {
      "text/plain": [
       "True"
      ]
     },
     "execution_count": 10,
     "metadata": {},
     "output_type": "execute_result"
    }
   ],
   "source": [
    "nltk.download('stopwords')"
   ]
  },
  {
   "cell_type": "code",
   "execution_count": 11,
   "metadata": {},
   "outputs": [],
   "source": [
    "stopWords = set(stopwords.words('portuguese')+['character','title','porque','vossa','todos','ser','tao'])\n",
    "stopWords = set(remover_acentos(' '.join(stopWords)).split())"
   ]
  },
  {
   "cell_type": "markdown",
   "metadata": {},
   "source": [
    "Remove palavras com menos de 500 ocorrências."
   ]
  },
  {
   "cell_type": "code",
   "execution_count": 12,
   "metadata": {},
   "outputs": [],
   "source": [
    "new_dict = {key:val for key, val in count.items() if key not in stopWords and 500<val and len(key)>2} "
   ]
  },
  {
   "cell_type": "code",
   "execution_count": 13,
   "metadata": {
    "scrolled": true
   },
   "outputs": [
    {
     "data": {
      "text/plain": [
       "[('senhor', 7433),\n",
       " ('bem', 6005),\n",
       " ('ainda', 4661),\n",
       " ('deus', 4602),\n",
       " ('grande', 4600),\n",
       " ('dom', 4589),\n",
       " ('assim', 4584),\n",
       " ('tempo', 4265),\n",
       " ('tudo', 4126),\n",
       " ('pois', 3922),\n",
       " ('fazer', 3738),\n",
       " ('parte', 3691),\n",
       " ('outros', 3515),\n",
       " ('onde', 3443),\n",
       " ('sobre', 3395),\n",
       " ('sempre', 3319),\n",
       " ('pode', 3281),\n",
       " ('aqui', 3179),\n",
       " ('pera', 3139),\n",
       " ('dia', 3033),\n",
       " ('logo', 2998),\n",
       " ('outra', 2847),\n",
       " ('agora', 2826),\n",
       " ('casa', 2825),\n",
       " ('merce', 2775),\n",
       " ('todo', 2770),\n",
       " ('disse', 2770),\n",
       " ('todas', 2744),\n",
       " ('outro', 2724),\n",
       " ('tanto', 2660),\n",
       " ('toda', 2654),\n",
       " ('vida', 2600),\n",
       " ('homem', 2506),\n",
       " ('ter', 2486),\n",
       " ('quanto', 2462),\n",
       " ('muitos', 2446),\n",
       " ('mestre', 2309),\n",
       " ('homens', 2304),\n",
       " ('mundo', 2303),\n",
       " ('joao', 2302),\n",
       " ('tal', 2275),\n",
       " ('dizer', 2267),\n",
       " ('menos', 2239),\n",
       " ('carta', 2224),\n",
       " ('excelencia', 2222),\n",
       " ('terra', 2209),\n",
       " ('dias', 2186),\n",
       " ('fez', 2179),\n",
       " ('dar', 2174),\n",
       " ('antes', 2170),\n",
       " ('primeiro', 2139),\n",
       " ('porem', 2138),\n",
       " ('outras', 2120),\n",
       " ('pouco', 2119),\n",
       " ('amigo', 2068),\n",
       " ('nome', 2066),\n",
       " ('maior', 2048),\n",
       " ('muitas', 2004),\n",
       " ('havia', 1999),\n",
       " ('diz', 1997),\n",
       " ('desta', 1982),\n",
       " ('anos', 1962),\n",
       " ('mil', 1952),\n",
       " ('filho', 1938),\n",
       " ('ver', 1932),\n",
       " ('contra', 1931),\n",
       " ('entao', 1926),\n",
       " ('alguma', 1920),\n",
       " ('senhora', 1920),\n",
       " ('deste', 1914),\n",
       " ('vezes', 1911),\n",
       " ('sendo', 1885),\n",
       " ('lugar', 1878),\n",
       " ('alguns', 1873),\n",
       " ('melhor', 1872),\n",
       " ('mesma', 1861),\n",
       " ('tres', 1839),\n",
       " ('amor', 1824),\n",
       " ('cousa', 1821),\n",
       " ('rei', 1791),\n",
       " ('nada', 1789),\n",
       " ('mim', 1781),\n",
       " ('faz', 1778),\n",
       " ('portugal', 1773),\n",
       " ('assi', 1764),\n",
       " ('nunca', 1758),\n",
       " ('mal', 1735),\n",
       " ('cada', 1712),\n",
       " ('senao', 1699),\n",
       " ('antonio', 1693),\n",
       " ('bom', 1689),\n",
       " ('senhoria', 1682),\n",
       " ('vem', 1674),\n",
       " ('nam', 1674),\n",
       " ('conde', 1672),\n",
       " ('dois', 1668),\n",
       " ('hoje', 1660),\n",
       " ('parece', 1634),\n",
       " ('segundo', 1626),\n",
       " ('verdade', 1625),\n",
       " ('lisboa', 1622),\n",
       " ('modo', 1622),\n",
       " ('nesta', 1591),\n",
       " ('razao', 1583),\n",
       " ('algum', 1571),\n",
       " ('gente', 1548),\n",
       " ('neste', 1535),\n",
       " ('mao', 1530),\n",
       " ('dona', 1523),\n",
       " ('grandes', 1498),\n",
       " ('cidade', 1497),\n",
       " ('deve', 1492),\n",
       " ('estado', 1490),\n",
       " ('quer', 1486),\n",
       " ('boa', 1484),\n",
       " ('quais', 1484),\n",
       " ('elle', 1476),\n",
       " ('duas', 1468),\n",
       " ('vai', 1467),\n",
       " ('sei', 1453),\n",
       " ('pedro', 1425),\n",
       " ('cousas', 1416),\n",
       " ('certo', 1404),\n",
       " ('discipulo', 1396),\n",
       " ('jose', 1384),\n",
       " ('fim', 1367),\n",
       " ('palavras', 1365),\n",
       " ('morte', 1362),\n",
       " ('reino', 1362),\n",
       " ('vez', 1353),\n",
       " ('deu', 1342),\n",
       " ('caso', 1335),\n",
       " ('coracao', 1332),\n",
       " ('dito', 1321),\n",
       " ('pai', 1312),\n",
       " ('olhos', 1311),\n",
       " ('ora', 1303),\n",
       " ('noite', 1301),\n",
       " ('comment', 1287),\n",
       " ('coisa', 1282),\n",
       " ('poder', 1279),\n",
       " ('ordem', 1274),\n",
       " ('guerra', 1265),\n",
       " ('francisco', 1263),\n",
       " ('mandou', 1232),\n",
       " ('mulher', 1229),\n",
       " ('saber', 1229),\n",
       " ('signed', 1220),\n",
       " ('padre', 1213),\n",
       " ('ano', 1205),\n",
       " ('filha', 1188),\n",
       " ('feito', 1186),\n",
       " ('algumas', 1169),\n",
       " ('principe', 1164),\n",
       " ('primeira', 1157),\n",
       " ('santo', 1140),\n",
       " ('mui', 1138),\n",
       " ('conta', 1128),\n",
       " ('author', 1121),\n",
       " ('reis', 1113),\n",
       " ('alma', 1103),\n",
       " ('quatro', 1084),\n",
       " ('hum', 1082),\n",
       " ('coisas', 1081),\n",
       " ('muita', 1081),\n",
       " ('causa', 1080),\n",
       " ('ali', 1080),\n",
       " ('maria', 1079),\n",
       " ('palavra', 1077),\n",
       " ('pessoa', 1076),\n",
       " ('rainha', 1071),\n",
       " ('doutor', 1052),\n",
       " ('maneira', 1037),\n",
       " ('podia', 1036),\n",
       " ('irmao', 1036),\n",
       " ('rio', 1025),\n",
       " ('dizem', 1022),\n",
       " ('sabe', 1020),\n",
       " ('maos', 1017),\n",
       " ('qualquer', 1014),\n",
       " ('numero', 1003),\n",
       " ('majestade', 997),\n",
       " ('meio', 995),\n",
       " ('digo', 993),\n",
       " ('partes', 983),\n",
       " ('vontade', 981),\n",
       " ('estar', 978),\n",
       " ('haver', 973),\n",
       " ('mar', 973),\n",
       " ('honra', 971),\n",
       " ('real', 967),\n",
       " ('deos', 949),\n",
       " ('dentro', 941),\n",
       " ('forca', 941),\n",
       " ('espirito', 940),\n",
       " ('corpo', 937),\n",
       " ('quero', 935),\n",
       " ('filhos', 921),\n",
       " ('juizo', 916),\n",
       " ('posto', 914),\n",
       " ('historia', 909),\n",
       " ('armas', 908),\n",
       " ('capitulo', 906),\n",
       " ('novo', 904),\n",
       " ('presente', 897),\n",
       " ('governo', 892),\n",
       " ('pessoas', 891),\n",
       " ('uns', 889),\n",
       " ('santa', 887),\n",
       " ('servico', 887),\n",
       " ('presidente', 883),\n",
       " ('cartas', 882),\n",
       " ('necessario', 881),\n",
       " ('corte', 872),\n",
       " ('sim', 869),\n",
       " ('elrey', 866),\n",
       " ('nenhum', 858),\n",
       " ('fazem', 857),\n",
       " ('donde', 854),\n",
       " ('horas', 851),\n",
       " ('vista', 850),\n",
       " ('franca', 849),\n",
       " ('tendo', 844),\n",
       " ('respeito', 840),\n",
       " ('somente', 838),\n",
       " ('falar', 836),\n",
       " ('ninguem', 835),\n",
       " ('podem', 830),\n",
       " ('papel', 830),\n",
       " ('foy', 824),\n",
       " ('hora', 823),\n",
       " ('falta', 822),\n",
       " ('fica', 821),\n",
       " ('diante', 816),\n",
       " ('justica', 813),\n",
       " ('povo', 811),\n",
       " ('chegou', 810),\n",
       " ('conselho', 809),\n",
       " ('alem', 806),\n",
       " ('marques', 806),\n",
       " ('mae', 798),\n",
       " ('etc', 792),\n",
       " ('livro', 788),\n",
       " ('lingua', 787),\n",
       " ('exemplo', 786),\n",
       " ('veio', 785),\n",
       " ('nova', 779),\n",
       " ('paz', 777),\n",
       " ('capitao', 776),\n",
       " ('vir', 774),\n",
       " ('desejo', 771),\n",
       " ('obra', 768),\n",
       " ('senhores', 763),\n",
       " ('dizendo', 759),\n",
       " ('dous', 753),\n",
       " ('margem', 749),\n",
       " ('cinco', 748),\n",
       " ('scene', 747),\n",
       " ('igreja', 743),\n",
       " ('trabalho', 742),\n",
       " ('marking', 740),\n",
       " ('quase', 737),\n",
       " ('natureza', 736),\n",
       " ('portugueses', 736),\n",
       " ('alteza', 736),\n",
       " ('dinheiro', 730),\n",
       " ('vao', 728),\n",
       " ('general', 727),\n",
       " ('gosto', 725),\n",
       " ('destes', 725),\n",
       " ('porta', 723),\n",
       " ('campo', 722),\n",
       " ('nenhuma', 721),\n",
       " ('ficou', 718),\n",
       " ('pais', 718),\n",
       " ('tantos', 716),\n",
       " ('letter', 715),\n",
       " ('tanta', 713),\n",
       " ('desde', 713),\n",
       " ('vinte', 712),\n",
       " ('vendo', 710),\n",
       " ('espanha', 710),\n",
       " ('artigo', 707),\n",
       " ('vaidade', 707),\n",
       " ('amigos', 702),\n",
       " ('cabeca', 701),\n",
       " ('novas', 701),\n",
       " ('posso', 700),\n",
       " ('obras', 700),\n",
       " ('sorte', 698),\n",
       " ('direito', 697),\n",
       " ('tomar', 695),\n",
       " ('materia', 695),\n",
       " ('socio', 695),\n",
       " ('companhia', 688),\n",
       " ('forma', 688),\n",
       " ('passado', 686),\n",
       " ('caminho', 685),\n",
       " ('frei', 685),\n",
       " ('manoel', 685),\n",
       " ('luiz', 679),\n",
       " ('nela', 676),\n",
       " ('superior', 674),\n",
       " ('parecer', 672),\n",
       " ('ponto', 666),\n",
       " ('velho', 664),\n",
       " ('vosso', 663),\n",
       " ('sangue', 661),\n",
       " ('bahia', 658),\n",
       " ('governador', 657),\n",
       " ('graca', 655),\n",
       " ('natural', 651),\n",
       " ('principio', 648),\n",
       " ('duvida', 647),\n",
       " ('sido', 645),\n",
       " ('nele', 645),\n",
       " ('saude', 644),\n",
       " ('luz', 643),\n",
       " ('documento', 643),\n",
       " ('sancho', 636),\n",
       " ('voz', 635),\n",
       " ('exercito', 635),\n",
       " ('manuel', 633),\n",
       " ('inimigos', 632),\n",
       " ('date', 631),\n",
       " ('mesmos', 630),\n",
       " ('favor', 629),\n",
       " ('queria', 629),\n",
       " ('soldados', 627),\n",
       " ('verbo', 626),\n",
       " ('rey', 626),\n",
       " ('mes', 625),\n",
       " ('secretario', 624),\n",
       " ('tantas', 622),\n",
       " ('mandar', 621),\n",
       " ('letras', 619),\n",
       " ('seis', 618),\n",
       " ('faca', 617),\n",
       " ('virtude', 616),\n",
       " ('language', 613),\n",
       " ('juiz', 612),\n",
       " ('negocio', 612),\n",
       " ('familia', 611),\n",
       " ('ceu', 611),\n",
       " ('affonso', 609),\n",
       " ('pintura', 608),\n",
       " ('cristo', 607),\n",
       " ('memoria', 606),\n",
       " ('jesus', 600),\n",
       " ('duque', 599),\n",
       " ('fazia', 593),\n",
       " ('dizia', 591),\n",
       " ('fazendo', 590),\n",
       " ('poucos', 590),\n",
       " ('criado', 589),\n",
       " ('afonso', 589),\n",
       " ('proprio', 587),\n",
       " ('noticia', 586),\n",
       " ('geral', 585),\n",
       " ('serem', 585),\n",
       " ('gloria', 585),\n",
       " ('per', 585),\n",
       " ('huma', 585),\n",
       " ('lei', 584),\n",
       " ('vou', 583),\n",
       " ('visto', 583),\n",
       " ('quis', 582),\n",
       " ('fazenda', 581),\n",
       " ('vila', 579),\n",
       " ('arte', 579),\n",
       " ('oracao', 579),\n",
       " ('seguinte', 578),\n",
       " ('ouro', 577),\n",
       " ('sete', 577),\n",
       " ('valor', 577),\n",
       " ('tais', 576),\n",
       " ('talvez', 574),\n",
       " ('segunda', 574),\n",
       " ('elles', 573),\n",
       " ('julio', 571),\n",
       " ('ambos', 569),\n",
       " ('fogo', 569),\n",
       " ('idade', 568),\n",
       " ('passar', 565),\n",
       " ('possivel', 565),\n",
       " ('marco', 562),\n",
       " ('ocasiao', 562),\n",
       " ('fizeram', 562),\n",
       " ('deixar', 560),\n",
       " ('roma', 559),\n",
       " ('respondeu', 556),\n",
       " ('efeito', 556),\n",
       " ('vejo', 555),\n",
       " ('agua', 554),\n",
       " ('patria', 554),\n",
       " ('esopo', 552),\n",
       " ('destas', 549),\n",
       " ('devia', 549),\n",
       " ('ella', 546),\n",
       " ('janeiro', 545),\n",
       " ('junto', 543),\n",
       " ('daqui', 541),\n",
       " ('escrever', 539),\n",
       " ('dado', 538),\n",
       " ('estando', 537),\n",
       " ('guarde', 537),\n",
       " ('nomes', 535),\n",
       " ('dez', 533),\n",
       " ('cuidado', 533),\n",
       " ('fortuna', 532),\n",
       " ('escrito', 531),\n",
       " ('conforme', 528),\n",
       " ('porto', 524),\n",
       " ('india', 523),\n",
       " ('cuja', 523),\n",
       " ('animo', 523),\n",
       " ('mouros', 520),\n",
       " ('closing', 519),\n",
       " ('paulo', 518),\n",
       " ('velha', 516),\n",
       " ('tempos', 516),\n",
       " ('bons', 514),\n",
       " ('entender', 513),\n",
       " ('costa', 511),\n",
       " ('particular', 511),\n",
       " ('alto', 511),\n",
       " ('passou', 510),\n",
       " ('inimigo', 510),\n",
       " ('remedio', 509),\n",
       " ('liberdade', 509),\n",
       " ('diabo', 506),\n",
       " ('propria', 504),\n",
       " ('esquerda', 502),\n",
       " ('entrar', 502),\n",
       " ('tomou', 502),\n",
       " ('enquanto', 501),\n",
       " ('desse', 501),\n",
       " ('preciso', 501)]"
      ]
     },
     "execution_count": 13,
     "metadata": {},
     "output_type": "execute_result"
    }
   ],
   "source": [
    "sorted(new_dict.items(), key=lambda kv:kv[1], reverse=1)"
   ]
  },
  {
   "cell_type": "code",
   "execution_count": 14,
   "metadata": {
    "scrolled": false
   },
   "outputs": [
    {
     "data": {
      "image/png": "[encoded data removed]",
      "text/plain": [
       "<Figure size 720x504 with 1 Axes>"
      ]
     },
     "metadata": {
      "needs_background": "light"
     },
     "output_type": "display_data"
    }
   ],
   "source": [
    "count_int_list = [int(i) for i in list(new_dict.values())]\n",
    "fig = plt.figure(figsize =(10, 7)) \n",
    "plt.boxplot(count_int_list)\n",
    "plt.show()"
   ]
  },
  {
   "cell_type": "code",
   "execution_count": 15,
   "metadata": {},
   "outputs": [
    {
     "data": {
      "image/png": "[encoded data removed]",
      "text/plain": [
       "<Figure size 720x504 with 1 Axes>"
      ]
     },
     "metadata": {
      "needs_background": "light"
     },
     "output_type": "display_data"
    }
   ],
   "source": [
    "fig, ax = plt.subplots(figsize =(10, 7))\n",
    "counts, bins, patches = ax.hist(count_int_list, edgecolor='gray', bins=range(500,8000,500))\n",
    "\n",
    "ax.set_xticks(bins)\n",
    "ax.set_xlabel('Frequência no Corpus')\n",
    "ax.set_ylabel('Número de ocorrências')\n",
    "\n",
    "plt.show()"
   ]
  },
  {
   "cell_type": "code",
   "execution_count": 17,
   "metadata": {},
   "outputs": [
    {
     "data": {
      "image/png": "[encoded data removed]",
      "text/plain": [
       "<Figure size 720x504 with 1 Axes>"
      ]
     },
     "metadata": {
      "needs_background": "light"
     },
     "output_type": "display_data"
    }
   ],
   "source": [
    "\n",
    "fig, ax = plt.subplots(figsize =(10, 7))\n",
    "counts, bins, patches = ax.hist(np.log10(count_int_list), edgecolor='gray')\n",
    "\n",
    "ax.set_xticks(bins)\n",
    "plt.show()"
   ]
  },
  {
   "cell_type": "code",
   "execution_count": null,
   "metadata": {},
   "outputs": [],
   "source": [
    "new_dict = {key:val for key, val in count.items() if key not in stopWords and 500<val and len(key)>2} "
   ]
  },
  {
   "cell_type": "markdown",
   "metadata": {},
   "source": [
    "### Salvando csv filtrado"
   ]
  },
  {
   "cell_type": "code",
   "execution_count": 5,
   "metadata": {},
   "outputs": [
    {
     "ename": "NameError",
     "evalue": "name 'new_dict' is not defined",
     "output_type": "error",
     "traceback": [
      "\u001b[0;31m---------------------------------------------------------------------------\u001b[0m",
      "\u001b[0;31mNameError\u001b[0m                                 Traceback (most recent call last)",
      "\u001b[0;32m<ipython-input-5-a87bda904bba>\u001b[0m in \u001b[0;36m<module>\u001b[0;34m\u001b[0m\n\u001b[1;32m      1\u001b[0m \u001b[0mw\u001b[0m \u001b[0;34m=\u001b[0m \u001b[0mcsv\u001b[0m\u001b[0;34m.\u001b[0m\u001b[0mwriter\u001b[0m\u001b[0;34m(\u001b[0m\u001b[0mopen\u001b[0m\u001b[0;34m(\u001b[0m\u001b[0;34m\"most_freq.csv\"\u001b[0m\u001b[0;34m,\u001b[0m \u001b[0;34m\"w\"\u001b[0m\u001b[0;34m)\u001b[0m\u001b[0;34m)\u001b[0m\u001b[0;34m\u001b[0m\u001b[0;34m\u001b[0m\u001b[0m\n\u001b[0;32m----> 2\u001b[0;31m \u001b[0;32mfor\u001b[0m \u001b[0mkey\u001b[0m\u001b[0;34m,\u001b[0m \u001b[0mval\u001b[0m \u001b[0;32min\u001b[0m \u001b[0mnew_dict\u001b[0m\u001b[0;34m.\u001b[0m\u001b[0mitems\u001b[0m\u001b[0;34m(\u001b[0m\u001b[0;34m)\u001b[0m\u001b[0;34m:\u001b[0m\u001b[0;34m\u001b[0m\u001b[0;34m\u001b[0m\u001b[0m\n\u001b[0m\u001b[1;32m      3\u001b[0m     \u001b[0mw\u001b[0m\u001b[0;34m.\u001b[0m\u001b[0mwriterow\u001b[0m\u001b[0;34m(\u001b[0m\u001b[0;34m[\u001b[0m\u001b[0mkey\u001b[0m\u001b[0;34m,\u001b[0m \u001b[0mval\u001b[0m\u001b[0;34m]\u001b[0m\u001b[0;34m)\u001b[0m\u001b[0;34m\u001b[0m\u001b[0;34m\u001b[0m\u001b[0m\n",
      "\u001b[0;31mNameError\u001b[0m: name 'new_dict' is not defined"
     ]
    }
   ],
   "source": [
    "w = csv.writer(open(\"most_freq.csv\", \"w\"))\n",
    "for key, val in new_dict.items():\n",
    "    w.writerow([key, val])"
   ]
  },
  {
   "cell_type": "markdown",
   "metadata": {},
   "source": [
    "# Busca de Palavras no corpus"
   ]
  },
  {
   "cell_type": "code",
   "execution_count": 7,
   "metadata": {},
   "outputs": [
    {
     "data": {
      "text/plain": [
       "2506"
      ]
     },
     "execution_count": 7,
     "metadata": {},
     "output_type": "execute_result"
    }
   ],
   "source": [
    "count['homem']"
   ]
  },
  {
   "cell_type": "code",
   "execution_count": 8,
   "metadata": {},
   "outputs": [
    {
     "data": {
      "text/plain": [
       "1229"
      ]
     },
     "execution_count": 8,
     "metadata": {},
     "output_type": "execute_result"
    }
   ],
   "source": [
    "count['mulher']"
   ]
  },
  {
   "cell_type": "code",
   "execution_count": 9,
   "metadata": {},
   "outputs": [
    {
     "data": {
      "text/plain": [
       "1312"
      ]
     },
     "execution_count": 9,
     "metadata": {},
     "output_type": "execute_result"
    }
   ],
   "source": [
    "count['pai']"
   ]
  },
  {
   "cell_type": "code",
   "execution_count": 13,
   "metadata": {},
   "outputs": [
    {
     "data": {
      "text/plain": [
       "798"
      ]
     },
     "execution_count": 13,
     "metadata": {},
     "output_type": "execute_result"
    }
   ],
   "source": [
    "count['mae']"
   ]
  },
  {
   "cell_type": "code",
   "execution_count": 14,
   "metadata": {},
   "outputs": [
    {
     "data": {
      "text/plain": [
       "4602"
      ]
     },
     "execution_count": 14,
     "metadata": {},
     "output_type": "execute_result"
    }
   ],
   "source": [
    "count['deus']"
   ]
  },
  {
   "cell_type": "code",
   "execution_count": 15,
   "metadata": {},
   "outputs": [
    {
     "data": {
      "text/plain": [
       "2209"
      ]
     },
     "execution_count": 15,
     "metadata": {},
     "output_type": "execute_result"
    }
   ],
   "source": [
    "count['terra']"
   ]
  },
  {
   "cell_type": "code",
   "execution_count": 33,
   "metadata": {},
   "outputs": [
    {
     "data": {
      "text/plain": [
       "'2209'"
      ]
     },
     "execution_count": 33,
     "metadata": {},
     "output_type": "execute_result"
    }
   ],
   "source": [
    "count['terra']"
   ]
  },
  {
   "cell_type": "code",
   "execution_count": 35,
   "metadata": {},
   "outputs": [
    {
     "data": {
      "text/plain": [
       "'366'"
      ]
     },
     "execution_count": 35,
     "metadata": {},
     "output_type": "execute_result"
    }
   ],
   "source": [
    "count['mulheres']"
   ]
  }
 ],
 "metadata": {
  "kernelspec": {
   "display_name": "Python 3",
   "language": "python",
   "name": "python3"
  },
  "language_info": {
   "codemirror_mode": {
    "name": "ipython",
    "version": 3
   },
   "file_extension": ".py",
   "mimetype": "text/x-python",
   "name": "python",
   "nbconvert_exporter": "python",
   "pygments_lexer": "ipython3",
   "version": "3.8.11"
  }
 },
 "nbformat": 4,
 "nbformat_minor": 4
}
